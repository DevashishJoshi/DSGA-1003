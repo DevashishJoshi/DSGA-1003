{
 "cells": [
  {
   "cell_type": "code",
   "execution_count": 17,
   "id": "sublime-moderator",
   "metadata": {},
   "outputs": [],
   "source": [
    "import numpy as np\n",
    "\n",
    "a=np.asarray([2,2,4,4])\n",
    "b=np.asarray([2,4,2,4])\n",
    "ab=a*b"
   ]
  },
  {
   "cell_type": "code",
   "execution_count": 18,
   "id": "chemical-blond",
   "metadata": {},
   "outputs": [],
   "source": [
    "y = np.asarray([-1,1,-1,1])"
   ]
  },
  {
   "cell_type": "code",
   "execution_count": 19,
   "id": "objective-latitude",
   "metadata": {},
   "outputs": [],
   "source": [
    "X=np.asarray([a,b,ab]).T"
   ]
  },
  {
   "cell_type": "code",
   "execution_count": 20,
   "id": "exceptional-going",
   "metadata": {},
   "outputs": [],
   "source": [
    "from sklearn.linear_model import Perceptron"
   ]
  },
  {
   "cell_type": "code",
   "execution_count": 21,
   "id": "automated-grove",
   "metadata": {},
   "outputs": [],
   "source": [
    "model = Perceptron()"
   ]
  },
  {
   "cell_type": "code",
   "execution_count": 22,
   "id": "essential-catch",
   "metadata": {},
   "outputs": [
    {
     "data": {
      "text/plain": [
       "Perceptron()"
      ]
     },
     "execution_count": 22,
     "metadata": {},
     "output_type": "execute_result"
    }
   ],
   "source": [
    "model.fit(X,y)"
   ]
  },
  {
   "cell_type": "code",
   "execution_count": 23,
   "id": "honey-reading",
   "metadata": {},
   "outputs": [],
   "source": [
    "y_pred = model.predict(X)"
   ]
  },
  {
   "cell_type": "code",
   "execution_count": 24,
   "id": "relative-mixture",
   "metadata": {},
   "outputs": [
    {
     "data": {
      "text/plain": [
       "array([-1,  1, -1,  1])"
      ]
     },
     "execution_count": 24,
     "metadata": {},
     "output_type": "execute_result"
    }
   ],
   "source": [
    "y_pred"
   ]
  }
 ],
 "metadata": {
  "kernelspec": {
   "display_name": "Python 3.7 (torch)",
   "language": "python",
   "name": "torch"
  },
  "language_info": {
   "codemirror_mode": {
    "name": "ipython",
    "version": 3
   },
   "file_extension": ".py",
   "mimetype": "text/x-python",
   "name": "python",
   "nbconvert_exporter": "python",
   "pygments_lexer": "ipython3",
   "version": "3.7.9"
  }
 },
 "nbformat": 4,
 "nbformat_minor": 5
}
